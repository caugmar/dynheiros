{
 "cells": [
  {
   "cell_type": "code",
   "execution_count": 1,
   "id": "c54831c7-432a-4d77-af3d-c8d65cdfc80f",
   "metadata": {},
   "outputs": [],
   "source": [
    "import configuracoes"
   ]
  },
  {
   "cell_type": "code",
   "execution_count": 2,
   "id": "8a6a0206-e6fa-4dc2-8791-8b59a696d6bd",
   "metadata": {},
   "outputs": [
    {
     "data": {
      "text/plain": [
       "'RELATÓRIO DETALHADO DAS NOTAS FISCAIS DE PROCESSAMENTO - ~a'"
      ]
     },
     "execution_count": 2,
     "metadata": {},
     "output_type": "execute_result"
    }
   ],
   "source": [
    "configuracoes.titulo_do_relatorio(\"LBM\")"
   ]
  },
  {
   "cell_type": "code",
   "execution_count": 3,
   "id": "982a9657-6783-44a3-9da1-ceed21b6d75f",
   "metadata": {},
   "outputs": [],
   "source": [
    "import extensos"
   ]
  },
  {
   "cell_type": "code",
   "execution_count": 4,
   "id": "8543d2b4-829b-4e77-a8fb-240950e0af08",
   "metadata": {},
   "outputs": [
    {
     "data": {
      "text/plain": [
       "'doze mil e trezentos e quarenta e cinco reais e sessenta e sete centavos'"
      ]
     },
     "execution_count": 4,
     "metadata": {},
     "output_type": "execute_result"
    }
   ],
   "source": [
    "extensos.em_reais(12345.67)"
   ]
  },
  {
   "cell_type": "code",
   "execution_count": null,
   "id": "1a5b5db1-8bf8-4e37-b088-4d19afc36cef",
   "metadata": {},
   "outputs": [],
   "source": []
  }
 ],
 "metadata": {
  "kernelspec": {
   "display_name": "Python 3 (ipykernel)",
   "language": "python",
   "name": "python3"
  },
  "language_info": {
   "codemirror_mode": {
    "name": "ipython",
    "version": 3
   },
   "file_extension": ".py",
   "mimetype": "text/x-python",
   "name": "python",
   "nbconvert_exporter": "python",
   "pygments_lexer": "ipython3",
   "version": "3.12.3"
  }
 },
 "nbformat": 4,
 "nbformat_minor": 5
}
